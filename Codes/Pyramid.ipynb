{
 "cells": [
  {
   "cell_type": "code",
   "execution_count": 9,
   "metadata": {},
   "outputs": [
    {
     "name": "stdout",
     "output_type": "stream",
     "text": [
      "A\n",
      "BB\n",
      "CCC\n",
      "DDDD\n",
      "EEEEE\n"
     ]
    }
   ],
   "source": [
    "#Program to print loop in Right Angle Format\n",
    "\n",
    "a=input(\"Enter Character: \")\n",
    "b=ord(a)\n",
    "c=int(input(\"Enter Range: \"))\n",
    "for i in range(c):\n",
    "    for j in range(i+1):\n",
    "        print(chr(b),end=\"\")\n",
    "    b=b+1\n",
    "    print()"
   ]
  },
  {
   "cell_type": "code",
   "execution_count": null,
   "metadata": {},
   "outputs": [],
   "source": [
    "#Program to print loop in 180 degree triangle\n",
    "\n",
    "a=input(\"Enter Character: \")\n",
    "b=ord(a)\n",
    "c=int(input(\"Enter Range: \"))\n",
    "k=c-1\n",
    "for i in range(c):\n",
    "    for j in range(k):\n",
    "        print(end=\" \")\n",
    "    k=k-1\n",
    "    for j in range(i+1):\n",
    "        print(chr(b),end=\"\")\n",
    "    b=b+1\n",
    "    print()"
   ]
  },
  {
   "cell_type": "code",
   "execution_count": null,
   "metadata": {},
   "outputs": [
    {
     "name": "stdout",
     "output_type": "stream",
     "text": [
      "    A \n",
      "   B B \n",
      "  C C C \n",
      " D D D D \n",
      "E E E E E \n"
     ]
    }
   ],
   "source": [
    "#Program to print loop in equilateral triangle\n",
    "\n",
    "a=input(\"Enter Character: \")\n",
    "b=ord(a)\n",
    "c=int(input(\"Enter Range: \"))\n",
    "k=c-1\n",
    "for i in range(c):\n",
    "    for j in range(k):\n",
    "        print(end=\" \")\n",
    "    k=k-1\n",
    "    for j in range(i+1):\n",
    "        print(chr(b),end=\" \")\n",
    "    b=b+1\n",
    "    print()"
   ]
  }
 ],
 "metadata": {
  "kernelspec": {
   "display_name": "Python 3",
   "language": "python",
   "name": "python3"
  },
  "language_info": {
   "codemirror_mode": {
    "name": "ipython",
    "version": 3
   },
   "file_extension": ".py",
   "mimetype": "text/x-python",
   "name": "python",
   "nbconvert_exporter": "python",
   "pygments_lexer": "ipython3",
   "version": "3.11.5"
  },
  "orig_nbformat": 4
 },
 "nbformat": 4,
 "nbformat_minor": 2
}
