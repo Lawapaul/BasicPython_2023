{
 "cells": [
  {
   "cell_type": "code",
   "execution_count": null,
   "id": "9a686cc5-2fc1-41fe-b0d1-eefaaf759181",
   "metadata": {},
   "outputs": [],
   "source": [
    "a=3.14566\n",
    "print(f\"Round {a:.2f}: \")"
   ]
  },
  {
   "cell_type": "code",
   "execution_count": null,
   "id": "cc2ae303-1950-4e5b-8464-72df8a4983b8",
   "metadata": {},
   "outputs": [],
   "source": [
    "dict1={'USA':{'Harshit':18,\"Ram\":21},'Canada':{\"Mohan\":16,\"Alex\":19}}\n",
    "print(dict1['USA']['Harshit'])"
   ]
  },
  {
   "cell_type": "code",
   "execution_count": null,
   "id": "a6c91139-b9a0-4765-acb6-a9c550605172",
   "metadata": {},
   "outputs": [],
   "source": [
    "dict1={}\n",
    "a=int(input(\"Enter Lenght of dictionary: \"))\n",
    "for i in range(a):\n",
    "    key=input(\"Enter Name:"
   ]
  },
  {
   "cell_type": "code",
   "execution_count": 1,
   "id": "397e1abd-27d6-4323-8945-e60213af4cb9",
   "metadata": {},
   "outputs": [
    {
     "name": "stdout",
     "output_type": "stream",
     "text": [
      "Enter Lenght of Dict1:  2\n",
      "Enter Lenght of Dict2:  1\n",
      "Enter Key 1:  0\n",
      "Enter Value 1:  10\n",
      "Enter Key 2:  1\n",
      "Enter Value 2:  20\n",
      "Enter Key 1 for Dict2:  2\n",
      "Enter Value 1 for Dict2:  30\n"
     ]
    },
    {
     "name": "stdout",
     "output_type": "stream",
     "text": [
      "{0: 10, 1: 20, 2: 30}\n"
     ]
    }
   ],
   "source": [
    "a=int(input(\"Enter Lenght of Dict1: \"))\n",
    "b=int(input(\"Enter Lenght of Dict2: \"))\n",
    "dict1={}\n",
    "dict2={}\n",
    "\n",
    "for x in range(a):\n",
    "    key=int(input(f\"Enter Key {x+1}: \"))\n",
    "    value=int(input(f\"Enter Value {x+1}: \"))\n",
    "    dict1[key]=value\n",
    "\n",
    "for i in range(b):\n",
    "    ke=int(input(f\"Enter Key {i+1} for Dict2: \"))\n",
    "    valu=int(input(f\"Enter Value {i+1} for Dict2: \"))\n",
    "    dict2[ke]=valu\n",
    "\n",
    "dict1.update(dict2)\n",
    "print(dict1)"
   ]
  },
  {
   "cell_type": "code",
   "execution_count": 30,
   "id": "e90bd194-d902-43d0-8e92-f2273b40b5fe",
   "metadata": {},
   "outputs": [
    {
     "ename": "SyntaxError",
     "evalue": "invalid syntax (3310248327.py, line 5)",
     "output_type": "error",
     "traceback": [
      "\u001b[0;36m  Cell \u001b[0;32mIn[30], line 5\u001b[0;36m\u001b[0m\n\u001b[0;31m    flag=\u001b[0m\n\u001b[0m         ^\u001b[0m\n\u001b[0;31mSyntaxError\u001b[0m\u001b[0;31m:\u001b[0m invalid syntax\n"
     ]
    }
   ],
   "source": [
    "dic1={1:10,2:20}\n",
    "dic2={3:30,4:40}\n",
    "dic3={5:50,6:60}\n",
    "\n",
    "flag=\n",
    "dic1.update(dic2)\n",
    "dic1.update(dic3)\n",
    "\n",
    "print(dic1)\n",
    "flag=False\n",
    "x=int(input(\"Enter Key: \"))\n",
    "for i,j in dic1.items():\n",
    "    if i==x:\n",
    "        flag=True\n",
    "    else:\n",
    "        flag=False\n",
    "\n",
    "if flag==True:\n",
    "    print(\"Exist\")\n",
    "else:\n",
    "    print(\"Do not Exist\")\n",
    "   \n",
    "    \n"
   ]
  },
  {
   "cell_type": "code",
   "execution_count": 6,
   "id": "677a6d42-9ef4-4a00-a8f3-67beb66a87ea",
   "metadata": {},
   "outputs": [
    {
     "name": "stdout",
     "output_type": "stream",
     "text": [
      "Harshit -- 18\n",
      "Gajraj -- 21\n",
      "Rajani -- 27\n"
     ]
    }
   ],
   "source": [
    "dict1={\"Harshit\":18,\"Gajraj\":21,\"Rajani\":27}\n",
    "for x,y in dict1.items():\n",
    "    x=y.sum()"
   ]
  },
  {
   "cell_type": "code",
   "execution_count": null,
   "id": "5a8b8af8-f17b-4f77-b45a-4a542c60334b",
   "metadata": {},
   "outputs": [],
   "source": []
  }
 ],
 "metadata": {
  "kernelspec": {
   "display_name": "Python 3 (ipykernel)",
   "language": "python",
   "name": "python3"
  },
  "language_info": {
   "codemirror_mode": {
    "name": "ipython",
    "version": 3
   },
   "file_extension": ".py",
   "mimetype": "text/x-python",
   "name": "python",
   "nbconvert_exporter": "python",
   "pygments_lexer": "ipython3",
   "version": "3.11.5"
  }
 },
 "nbformat": 4,
 "nbformat_minor": 5
}
