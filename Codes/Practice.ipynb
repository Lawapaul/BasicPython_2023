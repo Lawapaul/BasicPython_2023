{
 "cells": [
  {
   "cell_type": "code",
   "execution_count": 2,
   "id": "bc5fb7e9-aa0c-4ed9-b53a-3fafa7587759",
   "metadata": {},
   "outputs": [
    {
     "name": "stdout",
     "output_type": "stream",
     "text": [
      "Enter Number:  1234\n"
     ]
    },
    {
     "name": "stdout",
     "output_type": "stream",
     "text": [
      "[4, 3, 2, 1]\n"
     ]
    }
   ],
   "source": [
    "#program to split the digit and print reverse\n",
    "\n",
    "a=int(input(\"Enter Number: \"))\n",
    "lst=[]\n",
    "\n",
    "while a>0:\n",
    "    lst.append(a%10)\n",
    "    a=int((a-(a%10))/10)\n",
    "\n",
    "print(lst)"
   ]
  },
  {
   "cell_type": "code",
   "execution_count": 4,
   "id": "a2a1fd04-0112-444a-9c45-fb0139d67d8e",
   "metadata": {},
   "outputs": [
    {
     "name": "stdout",
     "output_type": "stream",
     "text": [
      "Enter Number:  12\n"
     ]
    },
    {
     "name": "stdout",
     "output_type": "stream",
     "text": [
      "1\n",
      "2\n",
      "3\n",
      "4\n",
      "6\n",
      "12\n"
     ]
    }
   ],
   "source": [
    "#Program to find factor\n",
    "\n",
    "a=int(input(\"Enter Number: \"))\n",
    "for x in range(1,a+1):\n",
    "    if a%x==0:\n",
    "        print(x)"
   ]
  },
  {
   "cell_type": "code",
   "execution_count": 15,
   "id": "b1cf8646-cf17-4e98-8de2-42a559d93ac9",
   "metadata": {},
   "outputs": [
    {
     "name": "stdout",
     "output_type": "stream",
     "text": [
      "Enter Number:  7\n"
     ]
    },
    {
     "name": "stdout",
     "output_type": "stream",
     "text": [
      "Number is prime\n"
     ]
    }
   ],
   "source": [
    "#Program to check prime number\n",
    "a=int(input(\"Enter Number: \"))\n",
    "flag=False\n",
    "\n",
    "if (a==1) or (a==0):\n",
    "    flag=True\n",
    "else:\n",
    "    for x in range(2,a+1):\n",
    "        if a%x==0:\n",
    "            flag=True\n",
    "        else:\n",
    "            flag=False\n",
    "            break\n",
    "\n",
    "if flag==True:\n",
    "    print(\"Number is not prime\")\n",
    "else:\n",
    "    print(\"Number is prime\")\n",
    "    \n"
   ]
  },
  {
   "cell_type": "code",
   "execution_count": 5,
   "id": "436b3487-2365-4492-a2e3-ef1489af8b04",
   "metadata": {},
   "outputs": [
    {
     "name": "stdout",
     "output_type": "stream",
     "text": [
      "Enter Number:  12345\n"
     ]
    },
    {
     "name": "stdout",
     "output_type": "stream",
     "text": [
      "54321\n"
     ]
    }
   ],
   "source": [
    "#Program to take input from user and display reverse of the number\n",
    "a=int(input(\"Enter Number: \"))\n",
    "rev=0\n",
    "temp=a\n",
    "\n",
    "while a>0:\n",
    "    z=a%10\n",
    "    rev=rev*10+z\n",
    "    a=a//10\n",
    "\n",
    "print(rev)"
   ]
  },
  {
   "cell_type": "code",
   "execution_count": 6,
   "id": "914460ca-4d24-4c64-ba4b-59916e5de2f9",
   "metadata": {},
   "outputs": [
    {
     "name": "stdout",
     "output_type": "stream",
     "text": [
      "Enter Number:  121\n"
     ]
    },
    {
     "name": "stdout",
     "output_type": "stream",
     "text": [
      "Number is palindrom\n"
     ]
    }
   ],
   "source": [
    "#Palindrome\n",
    "a=int(input(\"Enter Number: \"))\n",
    "rev=0\n",
    "temp=a\n",
    "\n",
    "while a>0:\n",
    "    z=a%10\n",
    "    rev=rev*10+z\n",
    "    a=a//10\n",
    "\n",
    "if temp==rev:\n",
    "    print(\"Number is palindrom\")\n",
    "\n",
    "else:\n",
    "    print(\"Not Palindrome\")"
   ]
  },
  {
   "cell_type": "code",
   "execution_count": 8,
   "id": "22ce8f24-8d3d-43d2-86d8-b3e037f11178",
   "metadata": {},
   "outputs": [
    {
     "name": "stdout",
     "output_type": "stream",
     "text": [
      "Enter Size of Array 5\n",
      "Enter Elements:  12\n",
      "Enter Elements:  13\n",
      "Enter Elements:  14\n",
      "Enter Elements:  15\n",
      "Enter Elements:  16\n"
     ]
    },
    {
     "name": "stdout",
     "output_type": "stream",
     "text": [
      "Largest element in array:  16\n"
     ]
    }
   ],
   "source": [
    "#Program to find largest array\n",
    "a=int(input(\"Enter Size of Array\"))\n",
    "lst=[]\n",
    "for x in range(0,a):\n",
    "    m=int(input(\"Enter Element: \"))\n",
    "    lst.append(m)\n",
    "\n",
    "print(\"Largest element in array: \",max(lst))\n",
    "\n"
   ]
  },
  {
   "cell_type": "code",
   "execution_count": 9,
   "id": "1875b0d0-ac9c-4de1-a4ed-728cd5147191",
   "metadata": {},
   "outputs": [
    {
     "name": "stdout",
     "output_type": "stream",
     "text": [
      "Enter Number:  6\n"
     ]
    },
    {
     "name": "stdout",
     "output_type": "stream",
     "text": [
      "1\n",
      "2\n",
      "6\n",
      "24\n",
      "120\n",
      "720\n"
     ]
    }
   ],
   "source": [
    "#Program to display factorial\n",
    "\n",
    "a=int(input(\"Enter Number: \"))\n",
    "factorial=1\n",
    "\n",
    "for x in range(1,a+1):\n",
    "    factorial=factorial*x\n",
    "    print(factorial)"
   ]
  },
  {
   "cell_type": "code",
   "execution_count": 5,
   "id": "83996faa-83d3-48f2-b42c-efbadc04265c",
   "metadata": {},
   "outputs": [
    {
     "name": "stdout",
     "output_type": "stream",
     "text": [
      "Enter Number:  407\n",
      "Enter no of digits:  3\n"
     ]
    },
    {
     "name": "stdout",
     "output_type": "stream",
     "text": [
      "Number is Armstrong: \n"
     ]
    }
   ],
   "source": [
    "#Program to check Armstrong number\n",
    "a=int(input(\"Enter Number: \"))\n",
    "b=int(input(\"Enter no of digits: \"))\n",
    "rev=0\n",
    "temp=a\n",
    "while a>0:\n",
    "    z=a%10\n",
    "    rev=rev+z**b\n",
    "    a=a//10\n",
    "\n",
    "if temp==rev:\n",
    "    print(\"Number is Armstrong: \")\n",
    "else:\n",
    "    print(\"Number is not Armstrong: \")\n",
    "    "
   ]
  },
  {
   "cell_type": "code",
   "execution_count": 12,
   "id": "91eb638d-3733-42ba-905f-17fdf5918472",
   "metadata": {},
   "outputs": [
    {
     "name": "stdout",
     "output_type": "stream",
     "text": [
      "Enter Number:  7\n"
     ]
    },
    {
     "name": "stdout",
     "output_type": "stream",
     "text": [
      "0 1 1 2 3 5 8 "
     ]
    }
   ],
   "source": [
    "#Program to print the sum of the Fibonacci series\n",
    "a=int(input(\"Enter Number: \"))\n",
    "sum=0\n",
    "n1,n2=0,1\n",
    "for x in range(0,a):\n",
    "    print(sum,end=\" \")\n",
    "    n1=n2\n",
    "    n2=sum\n",
    "    sum=n1+n2\n",
    "    "
   ]
  },
  {
   "cell_type": "code",
   "execution_count": 4,
   "id": "cef7640d-9b61-49d1-ad0c-0ef401791c1a",
   "metadata": {},
   "outputs": [
    {
     "name": "stdout",
     "output_type": "stream",
     "text": [
      "Enter number:  123\n"
     ]
    },
    {
     "name": "stdout",
     "output_type": "stream",
     "text": [
      "[3, 2, 1]\n",
      "6\n"
     ]
    }
   ],
   "source": [
    "#Programme to split digit, reverse and sum of the digits\n",
    "\n",
    "a=int(input(\"Enter number: \"))\n",
    "lst=[]\n",
    "\n",
    "while a>0:\n",
    "    lst.append(a%10)\n",
    "    a=int((a-(a%10))/10)\n",
    "    \n",
    "print(lst)\n",
    "print(sum(lst))\n",
    "        \n"
   ]
  },
  {
   "cell_type": "code",
   "execution_count": 26,
   "id": "683329cd-3dc4-40e8-9cac-2bd7473053c2",
   "metadata": {},
   "outputs": [
    {
     "name": "stdout",
     "output_type": "stream",
     "text": [
      " 1000\n",
      " 2\n"
     ]
    },
    {
     "name": "stdout",
     "output_type": "stream",
     "text": [
      "Thankyou , you entered right format\n",
      "15% Discount Applicable\n",
      "Original Price:  1000\n",
      "Quantity:  2\n",
      "Total Price:  2000\n",
      "Discounted Price:  1700.0\n",
      "Money Saved:   300.0\n"
     ]
    }
   ],
   "source": [
    "original_price=int(input())\n",
    "quantity=int(input())\n",
    "\n",
    "if quantity>=1 and quantity<=9:\n",
    "    print(\"Thankyou , you entered right format\")\n",
    "    if quantity>=6 and quantity<=9:\n",
    "        print(\"Buy 6 and Get 1 free and 10% discount Applicable\")\n",
    "        x=quantity+1\n",
    "        a=original_price*x*(1-10/100)\n",
    "        print(\"Original Price: \",original_price)\n",
    "        print(\"Quantity: \",x)\n",
    "        print(\"Total Price: \",original_price*x)\n",
    "        print(\"Discounted Price: \",a)\n",
    "        print(\"Money Saved:  \",(original_price*x)-a)\n",
    "\n",
    "    elif quantity>=3 and quantity<=4:\n",
    "        print(\"20% Discount Applicable\")\n",
    "        a=original_price*quantity*(1-20/100)\n",
    "        print(\"Original Price: \",original_price)\n",
    "        print(\"Quantity: \",quantity)\n",
    "        print(\"Total Price: \",original_price*quantity)\n",
    "        print(\"Discounted Price: \",a)\n",
    "        print(\"Money Saved:  \",(original_price*quantity)-a)\n",
    "\n",
    "    elif quantity>=2 and quantity<3:\n",
    "        print(\"15% Discount Applicable\")\n",
    "        a=original_price*quantity*(1-15/100)\n",
    "        print(\"Original Price: \",original_price)\n",
    "        print(\"Quantity: \",quantity)\n",
    "        print(\"Total Price: \",original_price*quantity)\n",
    "        print(\"Discounted Price: \",a)\n",
    "        print(\"Money Saved:  \",(original_price*quantity)-a)\n",
    "\n",
    "    elif quantity==1:\n",
    "        print(\"Sorry No discount Applicable\")\n",
    "        print(\"Original Price: \",original_price)\n",
    "        print(\"Quantity: \",quantity)\n",
    "        print(\"Total Price: \",original_price*quantity)\n",
    "        print(\"Discounted Price:0 \")\n",
    "        print(\"Money Saved: 0 \")\n",
    "else:\n",
    "    print(\"Enter quantity less than 10\")\n",
    "         \n",
    "\n"
   ]
  },
  {
   "cell_type": "code",
   "execution_count": null,
   "id": "67dbe528-55b6-4253-ae08-a598d55b42f0",
   "metadata": {},
   "outputs": [],
   "source": []
  }
 ],
 "metadata": {
  "kernelspec": {
   "display_name": "Python 3 (ipykernel)",
   "language": "python",
   "name": "python3"
  },
  "language_info": {
   "codemirror_mode": {
    "name": "ipython",
    "version": 3
   },
   "file_extension": ".py",
   "mimetype": "text/x-python",
   "name": "python",
   "nbconvert_exporter": "python",
   "pygments_lexer": "ipython3",
   "version": "3.11.6"
  }
 },
 "nbformat": 4,
 "nbformat_minor": 5
}
