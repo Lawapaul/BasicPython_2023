{
 "cells": [
  {
   "cell_type": "code",
   "execution_count": 1,
   "id": "b13b2330-38a0-4f93-a2f9-674febb684be",
   "metadata": {},
   "outputs": [
    {
     "name": "stdin",
     "output_type": "stream",
     "text": [
      "Enter Number:  5\n"
     ]
    },
    {
     "name": "stdout",
     "output_type": "stream",
     "text": [
      "0b101\n"
     ]
    }
   ],
   "source": [
    "#Bitwise Operators small Program\n",
    "\n",
    "a=int(input(\"Enter Number: \"))\n",
    "print(bin(a))"
   ]
  },
  {
   "cell_type": "code",
   "execution_count": 8,
   "id": "a8172c21-f226-4147-8254-f15199ab59d8",
   "metadata": {},
   "outputs": [
    {
     "name": "stdin",
     "output_type": "stream",
     "text": [
      "Enter Number1:  10\n"
     ]
    },
    {
     "name": "stdout",
     "output_type": "stream",
     "text": [
      "0b1010\n"
     ]
    },
    {
     "name": "stdin",
     "output_type": "stream",
     "text": [
      "Enter Number2:  15\n"
     ]
    },
    {
     "name": "stdout",
     "output_type": "stream",
     "text": [
      "0b1111\n",
      "\n",
      "And Operation:  0b1010\n"
     ]
    }
   ],
   "source": [
    "#And Operation\n",
    "\n",
    "a=int(input(\"Enter Number1: \"))\n",
    "print(bin(a))\n",
    "b=int(input(\"Enter Number2: \"))\n",
    "print(bin(b))\n",
    "print(\"\\nAnd Operation: \",bin(a&b))"
   ]
  },
  {
   "cell_type": "code",
   "execution_count": 11,
   "id": "7f82785c-4de9-4028-9ae9-bb151385a597",
   "metadata": {},
   "outputs": [
    {
     "name": "stdin",
     "output_type": "stream",
     "text": [
      "Enter Number1:  45\n"
     ]
    },
    {
     "name": "stdout",
     "output_type": "stream",
     "text": [
      "0b101101\n"
     ]
    },
    {
     "name": "stdin",
     "output_type": "stream",
     "text": [
      "Enter Number2:  38\n"
     ]
    },
    {
     "name": "stdout",
     "output_type": "stream",
     "text": [
      "0b100110\n",
      "\n",
      "And Operation:  0b1011\n"
     ]
    }
   ],
   "source": [
    "#XOR Operator\n",
    "a=int(input(\"Enter Number1: \"))\n",
    "print(bin(a))\n",
    "b=int(input(\"Enter Number2: \"))\n",
    "print(bin(b))\n",
    "print(\"\\nAnd Operation: \",bin(a^b))\n"
   ]
  },
  {
   "cell_type": "code",
   "execution_count": 14,
   "id": "df5bf362-5fb3-402a-b5ee-18def0c852ee",
   "metadata": {},
   "outputs": [
    {
     "name": "stdin",
     "output_type": "stream",
     "text": [
      "Enter Number:  14\n"
     ]
    },
    {
     "name": "stdout",
     "output_type": "stream",
     "text": [
      "0b1110\n",
      "\n",
      "Not Operation:  -0b1111\n"
     ]
    }
   ],
   "source": [
    "#NOT operation\n",
    "\n",
    "a=int(input(\"Enter Number: \"))\n",
    "print(bin(a))\n",
    "print(\"\\nNot Operation: \",bin(~a))"
   ]
  },
  {
   "cell_type": "code",
   "execution_count": 23,
   "id": "5c56fb29-8cb6-41cc-80da-579c7159185b",
   "metadata": {},
   "outputs": [
    {
     "name": "stdin",
     "output_type": "stream",
     "text": [
      "Enter Number:  14\n"
     ]
    },
    {
     "name": "stdout",
     "output_type": "stream",
     "text": [
      "0b1110 \n",
      "Left Shift:  0b111000\n",
      "Right Shift:  0b111\n"
     ]
    }
   ],
   "source": [
    "#Left Shift\n",
    "\n",
    "a=int(input(\"Enter Number: \"))\n",
    "print(bin(a),\"\\nLeft Shift: \",bin(a<<2))\n",
    "\n",
    "#Right Shift\n",
    "print(\"Right Shift: \",bin(a>>1))"
   ]
  },
  {
   "cell_type": "code",
   "execution_count": null,
   "id": "114f8d0e-c67c-4d87-ad87-e5920e2cb334",
   "metadata": {},
   "outputs": [],
   "source": []
  }
 ],
 "metadata": {
  "kernelspec": {
   "display_name": "Python 3 (ipykernel)",
   "language": "python",
   "name": "python3"
  },
  "language_info": {
   "codemirror_mode": {
    "name": "ipython",
    "version": 3
   },
   "file_extension": ".py",
   "mimetype": "text/x-python",
   "name": "python",
   "nbconvert_exporter": "python",
   "pygments_lexer": "ipython3",
   "version": "3.11.5"
  }
 },
 "nbformat": 4,
 "nbformat_minor": 5
}
