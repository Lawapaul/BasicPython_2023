{
 "cells": [
  {
   "cell_type": "code",
   "execution_count": 3,
   "metadata": {},
   "outputs": [
    {
     "name": "stdout",
     "output_type": "stream",
     "text": [
      "(10,)\n",
      "(10, 20)\n",
      "(10, 20, 'Harshit')\n",
      "(10, 20, 'Harshit', 'Singh')\n",
      "Thankyou! \n"
     ]
    }
   ],
   "source": [
    "#Program to create Tuple with user Input\n",
    "\n",
    "tup1=()\n",
    "while True:\n",
    "    a=int(input(\"1. Integer\\n2. String\\n3.Exit\"))\n",
    "    if a==1:\n",
    "        b=int(input(\"Enter Elements: \"))\n",
    "        tup1+=(b,)\n",
    "        print(tup1)\n",
    "    elif a==2:\n",
    "        ch=input(\"Enter String: \")\n",
    "        tup1+=(ch,)\n",
    "        print(tup1)\n",
    "    else:\n",
    "        print(\"Thankyou! \")\n",
    "        break\n",
    "    \n",
    "\n",
    "    "
   ]
  },
  {
   "cell_type": "code",
   "execution_count": 11,
   "metadata": {},
   "outputs": [
    {
     "name": "stdout",
     "output_type": "stream",
     "text": [
      "(10, 20, 20, 30, 30, 40, 50, 60)\n",
      "(60, 50, 40, 30, 30, 20, 20, 10)\n",
      "(10, 20)\n",
      "20\n",
      "1\n",
      "8\n",
      "2\n"
     ]
    }
   ],
   "source": [
    "#Program to Convert list into Tupel\n",
    "\n",
    "a=list(map(int,input(\"Enter list with a space: \").split()))\n",
    "tup1=tuple(a)\n",
    "print(tup1)\n",
    "print(tup1[::-1])\n",
    "print(tup1[0:3:2])\n",
    "print(tup1[2])\n",
    "print(tup1.index(20))\n",
    "print(len(tup1))\n",
    "print(tup1.count(30))"
   ]
  },
  {
   "cell_type": "code",
   "execution_count": 12,
   "metadata": {},
   "outputs": [
    {
     "name": "stdout",
     "output_type": "stream",
     "text": [
      "150\n"
     ]
    }
   ],
   "source": [
    "#Program to unpack a tuple\n",
    "a=list(map(int,input(\"Enter list with a space: \").split()))\n",
    "tup1=tuple(a)\n",
    "sum=0\n",
    "\n",
    "for i in tup1:\n",
    "    sum+=i\n",
    "\n",
    "print(tup1)\n",
    "print(sum)\n",
    "    \n"
   ]
  },
  {
   "cell_type": "code",
   "execution_count": 14,
   "metadata": {},
   "outputs": [
    {
     "name": "stdout",
     "output_type": "stream",
     "text": [
      "(10, 20, 30, 40, 50)\n"
     ]
    }
   ],
   "source": [
    "#Program to Add an item in tuple\n",
    "\n",
    "a=list(map(int,input(\"Enter list with a space: \").split()))\n",
    "tup1=tuple(a)\n",
    "\n",
    "b=int(input(\"Enter Item: \"))\n",
    "tup1+=(b,)\n",
    "print(tup1)"
   ]
  },
  {
   "cell_type": "code",
   "execution_count": 17,
   "metadata": {},
   "outputs": [],
   "source": [
    "#Program to convert tuple into a String\n",
    "\n",
    "tup1=()\n",
    "while True:\n",
    "    ch=input(\"Enter String: \")\n",
    "    \n",
    "    if ch=='done':\n",
    "        break\n",
    "    else:\n",
    "        tup1+=(ch,)\n",
    "        continue\n",
    " \n",
    "\n",
    "str1=\" \"\n",
    "for i in tup1:\n",
    "    str1+=i\n",
    "\n",
    "print(str1)\n",
    "    "
   ]
  },
  {
   "cell_type": "code",
   "execution_count": 19,
   "metadata": {},
   "outputs": [
    {
     "name": "stdout",
     "output_type": "stream",
     "text": [
      "Yes, it exists at index position  3\n"
     ]
    }
   ],
   "source": [
    "\"\"\"Write a Python program to get the 4th element and 4th element from last of a tuple.\"\"\"\n",
    "\n",
    "a=list(map(int,input(\"Enter List with space: \").split()))\n",
    "tup1=tuple(a)\n",
    "Flag=False\n",
    "\n",
    "b=int(input(\"Enter Number: \"))\n",
    "if b in tup1:\n",
    "    a=tup1.index(b)\n",
    "    print(\"Yes, it exists at index position\",a)\n",
    "else:\n",
    "    print(\"Does not Exist\")"
   ]
  },
  {
   "cell_type": "code",
   "execution_count": 23,
   "metadata": {},
   "outputs": [
    {
     "name": "stdout",
     "output_type": "stream",
     "text": [
      "(10, 20, 30, 30, 30, 40, 50)\n",
      "30\n",
      "30\n",
      "30\n",
      "3\n"
     ]
    }
   ],
   "source": [
    "#Program to find repeated items in a tuple\n",
    "a=list(map(int,input(\"Enter List with space: \").split()))\n",
    "tup1=tuple(a)\n",
    "print(tup1)\n",
    "count=0\n",
    "for i in tup1:\n",
    "    if tup1.count(i)>1:\n",
    "        print(i)\n",
    "        count=count+1\n",
    "        \n",
    "print(count)\n",
    "\n"
   ]
  }
 ],
 "metadata": {
  "kernelspec": {
   "display_name": "Python 3",
   "language": "python",
   "name": "python3"
  },
  "language_info": {
   "codemirror_mode": {
    "name": "ipython",
    "version": 3
   },
   "file_extension": ".py",
   "mimetype": "text/x-python",
   "name": "python",
   "nbconvert_exporter": "python",
   "pygments_lexer": "ipython3",
   "version": "3.11.5"
  },
  "orig_nbformat": 4
 },
 "nbformat": 4,
 "nbformat_minor": 2
}
